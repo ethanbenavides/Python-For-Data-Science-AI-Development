{
 "cells": [
  {
   "attachments": {},
   "cell_type": "markdown",
   "metadata": {},
   "source": [
    "## Practice Lab\n",
    "\n",
    "# **Scenario: Text Analysis**\n",
    "\n",
    "## Objectives\n",
    "\n",
    "Upon finishing this laboratory exercise, you will gain proficiency in employing various techniques in combination.\n",
    "\n",
    "## Setup\n",
    "\n",
    "For this lab, we will be using the following data types:\n",
    "\n",
    "- List\n",
    "- Strings\n",
    "- Classes and objects\n"
   ]
  },
  {
   "attachments": {},
   "cell_type": "markdown",
   "metadata": {},
   "source": [
    "# Let's consider a real-life scenario where you are analyzing customer feedback for a product. You have a large dataset of customer reviews in the form of strings, and you want to extract useful information from them using the three identified tasks:\n",
    "\n",
    "**1. String in lower case:** You want to Pre-process the customer feedback by converting all the text to lowercase. This step helps standardize the text. Lower casing the text allows you to focus on the content rather than the specific letter casing.\n",
    "\n",
    "**2. Frequency of all words in a given string:** After converting the text to lowercase, you want to determine the frequency of each word in the customer feedback. This information will help you identify which words are used more frequently, indicating the key aspects or topics that customers are mentioning in their reviews. By analyzing the word frequencies, you can gain insights into the most common issues raised by customers.\n",
    "\n",
    "**3. Frequency of a specific word:** In addition to analyzing the overall word frequencies, you want to specifically track the frequency of a particular word that is relevant to your analysis. For example, you might be interested in monitoring how often the word \"reliable\" appears in the customer reviews to gauge customer sentiment about the product's reliability. By focusing on the frequency of a specific word, you can gain a deeper understanding of customer opinions or preferences related to that particular aspect.\n",
    "\n",
    "By performing these tasks on the customer feedback dataset, you can gain valuable insights into customer sentiment"
   ]
  },
  {
   "attachments": {},
   "cell_type": "markdown",
   "metadata": {},
   "source": [
    "## Below is the given string"
   ]
  },
  {
   "cell_type": "code",
   "execution_count": 13,
   "metadata": {},
   "outputs": [],
   "source": [
    "given_string = \"Lorem ipsum dolor! diam amet, consetetur Lorem magna. sed diam nonumy eirmod tempor. diam et labore? et diam magna. et diam amet.\""
   ]
  },
  {
   "attachments": {},
   "cell_type": "markdown",
   "metadata": {},
   "source": [
    "# Task-1 Define the class and its attributes:\n",
    "\n",
    "1. Create a class named TextAnalyzer.\n",
    "2. Define the constructor __init__ method that takes a text argument."
   ]
  },
  {
   "cell_type": "code",
   "execution_count": 14,
   "metadata": {},
   "outputs": [],
   "source": [
    "class TextAnalyzer(object):\n",
    "    \n",
    "    def __init__(self, text):\n",
    "        self.text = text"
   ]
  },
  {
   "attachments": {},
   "cell_type": "markdown",
   "metadata": {},
   "source": [
    "# Task-2 Formatting the text:\n",
    "\n",
    "1. Inside the constructor, convert the text argument to lowercase using the lower() method.\n",
    "2. Remove punctuation marks (periods, exclamation marks, commas, and question marks) from the text using the replace() method.\n",
    "3. Assign the formatted text to a new attribute called fmtText.\n",
    "\n",
    "**Update the above `TextAnalyzer` class with points mentioned above.**"
   ]
  },
  {
   "cell_type": "code",
   "execution_count": 15,
   "metadata": {},
   "outputs": [],
   "source": [
    "class TextAnalyzer(object):\n",
    "    \n",
    "    def __init__(self, text):\n",
    "        # text is formatted to be lowercase\n",
    "        f_text = text.lower()\n",
    "        #text is formatted to have no punctuation\n",
    "        f_text = text.replace(\",\", \"\").replace(\".\", \"\").replace(\"!\", \"\").replace(\"?\", \"\")\n",
    "        #assign formatted text to self object\n",
    "        self.fmtText = f_text"
   ]
  },
  {
   "attachments": {},
   "cell_type": "markdown",
   "metadata": {},
   "source": [
    "## Task-3 Frequency of all unique words:\n",
    "\n",
    "- Implement the freqAll() method:\n",
    "    1. Split the fmtText attribute into individual words using the split() method.\n",
    "    2. Create an empty dictionary to store the word frequency.\n",
    "    3. Iterate over the list of words and update the frequency dictionary accordingly.\n",
    "    4. use count method for counting the occurence\n",
    "    5. Return the frequency dictionary.\n",
    "\n",
    "**Update the above `TextAnalyzer` class with points mentioned above.**"
   ]
  },
  {
   "cell_type": "code",
   "execution_count": 16,
   "metadata": {},
   "outputs": [],
   "source": [
    "class TextAnalyzer(object):\n",
    "    \n",
    "    def __init__(self, text):\n",
    "        # text is formatted to be lowercase\n",
    "        f_text = text.lower()\n",
    "        #text is formatted to have no punctuation\n",
    "        f_text = text.replace(\",\", \"\").replace(\".\", \"\").replace(\"!\", \"\").replace(\"?\", \"\")\n",
    "        #assign formatted text to self object\n",
    "        self.fmtText = f_text\n",
    "        \n",
    "    def freqAll(self):\n",
    "        # split text into word list by spaces\n",
    "        word_list = self.fmtText.split()\n",
    "        # return a dictionary of words by their frequency in the word list\n",
    "        return {word: word_list.count(word) for word in word_list}"
   ]
  },
  {
   "attachments": {},
   "cell_type": "markdown",
   "metadata": {},
   "source": [
    "Testing freqAll() function thus far:"
   ]
  },
  {
   "cell_type": "code",
   "execution_count": 17,
   "metadata": {},
   "outputs": [
    {
     "data": {
      "text/plain": [
       "{'Lorem': 2,\n",
       " 'ipsum': 1,\n",
       " 'dolor': 1,\n",
       " 'diam': 5,\n",
       " 'amet': 2,\n",
       " 'consetetur': 1,\n",
       " 'magna': 2,\n",
       " 'sed': 1,\n",
       " 'nonumy': 1,\n",
       " 'eirmod': 1,\n",
       " 'tempor': 1,\n",
       " 'et': 3,\n",
       " 'labore': 1}"
      ]
     },
     "execution_count": 17,
     "metadata": {},
     "output_type": "execute_result"
    }
   ],
   "source": [
    "txt = TextAnalyzer(given_string)\n",
    "txt.freqAll()"
   ]
  },
  {
   "attachments": {},
   "cell_type": "markdown",
   "metadata": {},
   "source": [
    "## Task-4 Frequency of a specific word:\n",
    "\n",
    "- Implement the freqOf(word) method that takes a word argument:\n",
    "    1. Create method and pass the word that need to be found\n",
    "    2. Get the freqAll method for look for count and check if that word is in the list.\n",
    "    3. Return the count.\n",
    "\n",
    "**Update the above `TextAnalyzer` class with points mentioned above.**"
   ]
  },
  {
   "cell_type": "code",
   "execution_count": 22,
   "metadata": {},
   "outputs": [],
   "source": [
    "class TextAnalyzer(object):\n",
    "    \n",
    "    def __init__(self, text):\n",
    "        # text is formatted to be lowercase\n",
    "        f_text = text.lower()\n",
    "        #text is formatted to have no punctuation\n",
    "        f_text = text.replace(\",\", \"\").replace(\".\", \"\").replace(\"!\", \"\").replace(\"?\", \"\")\n",
    "        #assign formatted text to self object\n",
    "        self.fmtText = f_text\n",
    "        \n",
    "    def freqAll(self):\n",
    "        # split text into word list by spaces\n",
    "        word_list = self.fmtText.split()\n",
    "        # return a dictionary of words by their frequency in the word list\n",
    "        return {word: word_list.count(word) for word in word_list}\n",
    "    \n",
    "    def freqOf(self, word):\n",
    "        # acquire frequency map\n",
    "        freq_dict = self.freqAll()\n",
    "        # return the frequency of the word in the word list if it exists, otherwise return 0\n",
    "        return freq_dict[word] if word in freq_dict else 0"
   ]
  },
  {
   "attachments": {},
   "cell_type": "markdown",
   "metadata": {},
   "source": [
    "Testing freqOf() function thus far:"
   ]
  },
  {
   "cell_type": "code",
   "execution_count": 23,
   "metadata": {},
   "outputs": [
    {
     "data": {
      "text/plain": [
       "3"
      ]
     },
     "execution_count": 23,
     "metadata": {},
     "output_type": "execute_result"
    }
   ],
   "source": [
    "txt = TextAnalyzer(given_string)\n",
    "txt.freqOf(\"et\")"
   ]
  },
  {
   "attachments": {},
   "cell_type": "markdown",
   "metadata": {},
   "source": [
    "## Now, We have successfully created a class with 3 methods"
   ]
  },
  {
   "attachments": {},
   "cell_type": "markdown",
   "metadata": {},
   "source": [
    "## Task-5 Create an instance of TextAnalyzer Class."
   ]
  },
  {
   "cell_type": "code",
   "execution_count": 26,
   "metadata": {},
   "outputs": [],
   "source": [
    "txt = TextAnalyzer(given_string)"
   ]
  },
  {
   "attachments": {},
   "cell_type": "markdown",
   "metadata": {},
   "source": [
    "## Task-6 Print the formatted text (lower case string)"
   ]
  },
  {
   "cell_type": "code",
   "execution_count": 28,
   "metadata": {},
   "outputs": [
    {
     "name": "stdout",
     "output_type": "stream",
     "text": [
      "Lorem ipsum dolor diam amet consetetur Lorem magna sed diam nonumy eirmod tempor diam et labore et diam magna et diam amet\n"
     ]
    }
   ],
   "source": [
    "print(txt.fmtText)"
   ]
  },
  {
   "attachments": {},
   "cell_type": "markdown",
   "metadata": {},
   "source": [
    "## Task-7 Test freqAll() method"
   ]
  },
  {
   "cell_type": "code",
   "execution_count": 29,
   "metadata": {},
   "outputs": [
    {
     "data": {
      "text/plain": [
       "{'Lorem': 2,\n",
       " 'ipsum': 1,\n",
       " 'dolor': 1,\n",
       " 'diam': 5,\n",
       " 'amet': 2,\n",
       " 'consetetur': 1,\n",
       " 'magna': 2,\n",
       " 'sed': 1,\n",
       " 'nonumy': 1,\n",
       " 'eirmod': 1,\n",
       " 'tempor': 1,\n",
       " 'et': 3,\n",
       " 'labore': 1}"
      ]
     },
     "execution_count": 29,
     "metadata": {},
     "output_type": "execute_result"
    }
   ],
   "source": [
    "txt.freqAll()"
   ]
  },
  {
   "attachments": {},
   "cell_type": "markdown",
   "metadata": {},
   "source": [
    "## Task-8 Test freqOf() method\n",
    "\n",
    "you have to find the frequency of the following words:-\n",
    "\n",
    "1. \"lorem\"\n",
    "2. \"diam\"\n",
    "3. \"et\"\n",
    "\n",
    "print the output using **formatting**"
   ]
  },
  {
   "cell_type": "code",
   "execution_count": 41,
   "metadata": {},
   "outputs": [
    {
     "name": "stdout",
     "output_type": "stream",
     "text": [
      "'lorem' appears 0 times\n"
     ]
    }
   ],
   "source": [
    "word = \"lorem\"\n",
    "print(f\"'{word}' appears {txt.freqOf(word)} times\")"
   ]
  },
  {
   "cell_type": "code",
   "execution_count": 42,
   "metadata": {},
   "outputs": [
    {
     "name": "stdout",
     "output_type": "stream",
     "text": [
      "'diam' appears 5 times\n"
     ]
    }
   ],
   "source": [
    "word = \"diam\"\n",
    "print(f\"'{word}' appears {txt.freqOf(word)} times\")"
   ]
  },
  {
   "cell_type": "code",
   "execution_count": 43,
   "metadata": {},
   "outputs": [
    {
     "name": "stdout",
     "output_type": "stream",
     "text": [
      "'et' appears 3 times\n"
     ]
    }
   ],
   "source": [
    "word = \"et\"\n",
    "print(f\"'{word}' appears {txt.freqOf(word)} times\")"
   ]
  }
 ],
 "metadata": {
  "kernelspec": {
   "display_name": "Python 3",
   "language": "python",
   "name": "python3"
  },
  "language_info": {
   "codemirror_mode": {
    "name": "ipython",
    "version": 3
   },
   "file_extension": ".py",
   "mimetype": "text/x-python",
   "name": "python",
   "nbconvert_exporter": "python",
   "pygments_lexer": "ipython3",
   "version": "3.11.4"
  },
  "orig_nbformat": 4
 },
 "nbformat": 4,
 "nbformat_minor": 2
}
